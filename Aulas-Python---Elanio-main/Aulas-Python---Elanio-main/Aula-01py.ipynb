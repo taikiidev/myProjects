{
 "cells": [
  {
   "attachments": {},
   "cell_type": "markdown",
   "metadata": {},
   "source": [
    "# Instalacoes"
   ]
  },
  {
   "cell_type": "code",
   "execution_count": 11,
   "metadata": {},
   "outputs": [],
   "source": [
    "# Instalacao e ativacao sympy e pandas. Derivadas e integrais utilizando bibliotecas do python.\n",
    "\n",
    "\n",
    "import sys\n"
   ]
  },
  {
   "attachments": {},
   "cell_type": "markdown",
   "metadata": {},
   "source": [
    "# Equacoes"
   ]
  },
  {
   "cell_type": "code",
   "execution_count": 8,
   "metadata": {},
   "outputs": [
    {
     "name": "stdout",
     "output_type": "stream",
     "text": [
      "Sympy e uma biblioteca que facilita a leitura de expressoes matematicas em python\n"
     ]
    }
   ],
   "source": [
    "print('Sympy e uma biblioteca que facilita a leitura de expressoes matematicas em python')\n",
    "x = Symbol('x') "
   ]
  },
  {
   "cell_type": "code",
   "execution_count": 8,
   "metadata": {},
   "outputs": [
    {
     "ename": "SyntaxError",
     "evalue": "invalid syntax (1048225456.py, line 1)",
     "output_type": "error",
     "traceback": [
      "\u001b[1;36m  Cell \u001b[1;32mIn[8], line 1\u001b[1;36m\u001b[0m\n\u001b[1;33m    pip install pandas\u001b[0m\n\u001b[1;37m        ^\u001b[0m\n\u001b[1;31mSyntaxError\u001b[0m\u001b[1;31m:\u001b[0m invalid syntax\n"
     ]
    }
   ],
   "source": [
    "\n",
    "\n"
   ]
  },
  {
   "cell_type": "code",
   "execution_count": 9,
   "metadata": {},
   "outputs": [
    {
     "data": {
      "text/latex": [
       "$\\displaystyle 2 x^{2} + 10$"
      ],
      "text/plain": [
       "2*x**2 + 10"
      ]
     },
     "execution_count": 9,
     "metadata": {},
     "output_type": "execute_result"
    }
   ],
   "source": [
    "2 * (x**2) + 10"
   ]
  },
  {
   "attachments": {},
   "cell_type": "markdown",
   "metadata": {},
   "source": [
    "# Derivadas"
   ]
  },
  {
   "attachments": {},
   "cell_type": "markdown",
   "metadata": {},
   "source": [
    "# Algoritmos "
   ]
  },
  {
   "cell_type": "code",
   "execution_count": 13,
   "metadata": {},
   "outputs": [
    {
     "name": "stdout",
     "output_type": "stream",
     "text": [
      "Insira suas notas:\n",
      "A media do aluno e 5\n",
      "Aluno reprovado\n"
     ]
    }
   ],
   "source": [
    "\n",
    "# >>>>> Algoritmo para alculo de media de um aluno.\n",
    "\n",
    "# ----------------------------------\n",
    "\n",
    "print('Insira suas notas por favor!:')\n",
    "notaUm = float(input('Nota 1 >>'))\n",
    "if (notaUm>10 or notaUm<0):\n",
    "    print('Numero Invalido')\n",
    "    sys.exit() \n",
    "notaDois = float(input('Nota 2 >>'))\n",
    "if (notaDois>10 or notaDois<0):\n",
    "    print('Numero Invalido')\n",
    "    sys.exit() \n",
    "notaTres = float(input('Nota 3 >>'))\n",
    "if (notaTres>10 or notaTres<0):\n",
    "    print('Numero Invalido')\n",
    "    sys.exit() \n",
    "mediaAluno = round((notaUm+notaDois+notaTres)/3)\n",
    "print('A media do aluno e',mediaAluno)\n",
    "\n",
    "if (mediaAluno > 6):\n",
    "    print('Aluno aprovado')\n",
    "else: \n",
    "    print('Aluno reprovado')\n",
    "\n",
    "# ----------------------------------\n",
    "\n"
   ]
  },
  {
   "cell_type": "code",
   "execution_count": 14,
   "metadata": {},
   "outputs": [
    {
     "ename": "KeyboardInterrupt",
     "evalue": "Interrupted by user",
     "output_type": "error",
     "traceback": [
      "\u001b[1;31m---------------------------------------------------------------------------\u001b[0m",
      "\u001b[1;31mKeyboardInterrupt\u001b[0m                         Traceback (most recent call last)",
      "\u001b[1;32mc:\\Users\\vinit\\OneDrive\\Área de Trabalho\\python\\Aulas-Python---Elanio\\Aula-01py.ipynb Cell 10\u001b[0m line \u001b[0;36m5\n\u001b[0;32m      <a href='vscode-notebook-cell:/c%3A/Users/vinit/OneDrive/%C3%81rea%20de%20Trabalho/python/Aulas-Python---Elanio/Aula-01py.ipynb#X13sZmlsZQ%3D%3D?line=0'>1</a>\u001b[0m \u001b[39m# ------------------------------------------------\u001b[39;00m\n\u001b[0;32m      <a href='vscode-notebook-cell:/c%3A/Users/vinit/OneDrive/%C3%81rea%20de%20Trabalho/python/Aulas-Python---Elanio/Aula-01py.ipynb#X13sZmlsZQ%3D%3D?line=1'>2</a>\u001b[0m \u001b[39m# Algoritmo que identifica o sexo do usuario.\u001b[39;00m\n\u001b[1;32m----> <a href='vscode-notebook-cell:/c%3A/Users/vinit/OneDrive/%C3%81rea%20de%20Trabalho/python/Aulas-Python---Elanio/Aula-01py.ipynb#X13sZmlsZQ%3D%3D?line=4'>5</a>\u001b[0m userInput \u001b[39m=\u001b[39m\u001b[39minput\u001b[39;49m(\u001b[39m'\u001b[39;49m\u001b[39mPor favor digite M para masculino ou F para feminino\u001b[39;49m\u001b[39m'\u001b[39;49m)\n\u001b[0;32m      <a href='vscode-notebook-cell:/c%3A/Users/vinit/OneDrive/%C3%81rea%20de%20Trabalho/python/Aulas-Python---Elanio/Aula-01py.ipynb#X13sZmlsZQ%3D%3D?line=5'>6</a>\u001b[0m x \u001b[39m=\u001b[39m userInput\u001b[39m.\u001b[39mupper()\n\u001b[0;32m      <a href='vscode-notebook-cell:/c%3A/Users/vinit/OneDrive/%C3%81rea%20de%20Trabalho/python/Aulas-Python---Elanio/Aula-01py.ipynb#X13sZmlsZQ%3D%3D?line=7'>8</a>\u001b[0m M \u001b[39m=\u001b[39m [\u001b[39m'\u001b[39m\u001b[39mM\u001b[39m\u001b[39m'\u001b[39m, \u001b[39m'\u001b[39m\u001b[39mm\u001b[39m\u001b[39m'\u001b[39m, \u001b[39m'\u001b[39m\u001b[39mMASCULINO\u001b[39m\u001b[39m'\u001b[39m,\u001b[39m'\u001b[39m\u001b[39mHOMEM\u001b[39m\u001b[39m'\u001b[39m]\n",
      "File \u001b[1;32m~\\AppData\\Local\\Packages\\PythonSoftwareFoundation.Python.3.11_qbz5n2kfra8p0\\LocalCache\\local-packages\\Python311\\site-packages\\ipykernel\\kernelbase.py:1202\u001b[0m, in \u001b[0;36mKernel.raw_input\u001b[1;34m(self, prompt)\u001b[0m\n\u001b[0;32m   1200\u001b[0m     msg \u001b[39m=\u001b[39m \u001b[39m\"\u001b[39m\u001b[39mraw_input was called, but this frontend does not support input requests.\u001b[39m\u001b[39m\"\u001b[39m\n\u001b[0;32m   1201\u001b[0m     \u001b[39mraise\u001b[39;00m StdinNotImplementedError(msg)\n\u001b[1;32m-> 1202\u001b[0m \u001b[39mreturn\u001b[39;00m \u001b[39mself\u001b[39;49m\u001b[39m.\u001b[39;49m_input_request(\n\u001b[0;32m   1203\u001b[0m     \u001b[39mstr\u001b[39;49m(prompt),\n\u001b[0;32m   1204\u001b[0m     \u001b[39mself\u001b[39;49m\u001b[39m.\u001b[39;49m_parent_ident[\u001b[39m\"\u001b[39;49m\u001b[39mshell\u001b[39;49m\u001b[39m\"\u001b[39;49m],\n\u001b[0;32m   1205\u001b[0m     \u001b[39mself\u001b[39;49m\u001b[39m.\u001b[39;49mget_parent(\u001b[39m\"\u001b[39;49m\u001b[39mshell\u001b[39;49m\u001b[39m\"\u001b[39;49m),\n\u001b[0;32m   1206\u001b[0m     password\u001b[39m=\u001b[39;49m\u001b[39mFalse\u001b[39;49;00m,\n\u001b[0;32m   1207\u001b[0m )\n",
      "File \u001b[1;32m~\\AppData\\Local\\Packages\\PythonSoftwareFoundation.Python.3.11_qbz5n2kfra8p0\\LocalCache\\local-packages\\Python311\\site-packages\\ipykernel\\kernelbase.py:1245\u001b[0m, in \u001b[0;36mKernel._input_request\u001b[1;34m(self, prompt, ident, parent, password)\u001b[0m\n\u001b[0;32m   1242\u001b[0m \u001b[39mexcept\u001b[39;00m \u001b[39mKeyboardInterrupt\u001b[39;00m:\n\u001b[0;32m   1243\u001b[0m     \u001b[39m# re-raise KeyboardInterrupt, to truncate traceback\u001b[39;00m\n\u001b[0;32m   1244\u001b[0m     msg \u001b[39m=\u001b[39m \u001b[39m\"\u001b[39m\u001b[39mInterrupted by user\u001b[39m\u001b[39m\"\u001b[39m\n\u001b[1;32m-> 1245\u001b[0m     \u001b[39mraise\u001b[39;00m \u001b[39mKeyboardInterrupt\u001b[39;00m(msg) \u001b[39mfrom\u001b[39;00m \u001b[39mNone\u001b[39;00m\n\u001b[0;32m   1246\u001b[0m \u001b[39mexcept\u001b[39;00m \u001b[39mException\u001b[39;00m:\n\u001b[0;32m   1247\u001b[0m     \u001b[39mself\u001b[39m\u001b[39m.\u001b[39mlog\u001b[39m.\u001b[39mwarning(\u001b[39m\"\u001b[39m\u001b[39mInvalid Message:\u001b[39m\u001b[39m\"\u001b[39m, exc_info\u001b[39m=\u001b[39m\u001b[39mTrue\u001b[39;00m)\n",
      "\u001b[1;31mKeyboardInterrupt\u001b[0m: Interrupted by user"
     ]
    }
   ],
   "source": [
    "# ------------------------------------------------\n",
    "# Algoritmo que identifica o sexo do usuario.\n",
    "\n",
    "\n",
    "userInput =input('Por favor digite M para masculino ou F para feminino')\n",
    "x = userInput.upper()\n",
    "\n",
    "M = ['M', 'm', 'MASCULINO','HOMEM']\n",
    "F = ['F', 'f', 'FEMININO', 'MULHER']\n",
    "\n",
    "if(x in M):\n",
    "    print('É um homem')\n",
    "elif(x in F):\n",
    "    print('É uma mulher')\n",
    "else:\n",
    "    print('Valor invalido')\n",
    "    exit()\n",
    "\n",
    "# -------------------------------------------------"
   ]
  },
  {
   "cell_type": "code",
   "execution_count": null,
   "metadata": {},
   "outputs": [
    {
     "name": "stdout",
     "output_type": "stream",
     "text": [
      "A area do circulo de acordo com o raio digitado e 314.1\n",
      "Area maior do que 100\n"
     ]
    }
   ],
   "source": [
    "#---------------------------------------------\n",
    "# Algoritmo para calcular a area de um circulo.\n",
    "\n",
    "raioCirculo = float(input('Digite o raio do circulo'))\n",
    "pi = 3.141\n",
    "areaCirculo = pi * (raioCirculo)**2\n",
    "print('A area do circulo de acordo com o raio digitado e',areaCirculo)\n",
    "\n",
    "# Verificar valor da area do circulo. Maior que 100 ou menor que 100.\n",
    "\n",
    "if (areaCirculo > 100):\n",
    "    print('Area maior do que 100')\n",
    "else:\n",
    "    print('Area menor do que 100')\n",
    "\n",
    "#---------------------------------------------"
   ]
  }
 ],
 "metadata": {
  "kernelspec": {
   "display_name": "Python 3",
   "language": "python",
   "name": "python3"
  },
  "language_info": {
   "codemirror_mode": {
    "name": "ipython",
    "version": 3
   },
   "file_extension": ".py",
   "mimetype": "text/x-python",
   "name": "python",
   "nbconvert_exporter": "python",
   "pygments_lexer": "ipython3",
   "version": "3.11.5"
  },
  "orig_nbformat": 4
 },
 "nbformat": 4,
 "nbformat_minor": 2
}
